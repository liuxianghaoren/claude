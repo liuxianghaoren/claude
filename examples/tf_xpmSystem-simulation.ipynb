{
 "cells": [
  {
   "cell_type": "markdown",
   "metadata": {},
   "source": [
    "This example shows a simulation of a WDM system with a model as described in [my thesis](https://orbit.dtu.dk/en/publications/machine-learning-methods-in-coherent-optical-communication-system) section 2.3.2. The model is a variant of the model described in [1], but adjusted for a fiber-optic link without inline dispersion compensation. The model is computational less demanding than using the SSFM. However, I haven't investigated its accuracy systematically. Also, the model here only simulates inter-channel nonlinear effects or XPM effects. Intra-channel nonlinear effects or SPM effects are not modeled.\n",
    "\n",
    "[1] https://ieeexplore.ieee.org/document/5709960"
   ]
  },
  {
   "cell_type": "code",
   "execution_count": null,
   "metadata": {},
   "outputs": [],
   "source": [
    "%matplotlib inline\n",
    "import matplotlib\n",
    "import tensorflow as tf\n",
    "import numpy as np\n",
    "import matplotlib.pyplot as plt\n",
    "import scipy.io\n",
    "import os"
   ]
  },
  {
   "cell_type": "code",
   "execution_count": 2,
   "metadata": {},
   "outputs": [],
   "source": [
    "import claude.utils as cu\n",
    "import claude.tx as tx\n",
    "import claude.claudeflow.systems as cfs\n",
    "import claude.claudeflow.training as cft\n",
    "import claude.claudeflow.helper as cfh\n",
    "import claude.claudeflow.autoencoder as ae\n",
    "import claude.claudeflow.models.SimpleXpmModel as cxpm"
   ]
  },
  {
   "cell_type": "code",
   "execution_count": 3,
   "metadata": {},
   "outputs": [
    {
     "name": "stdout",
     "output_type": "stream",
     "text": [
      "M:\t64\n",
      "nPol:\t2\n",
      "sps:\t16\n",
      "nSamples:\t1024\n",
      "rollOff:\t0.05\n",
      "filterSpan:\t128\n",
      "optimizeP:\tFalse\n",
      "PdBm:\t0\n",
      "Rs:\t32000000000.0\n",
      "channels:\t[-100.  -50.    0.   50.  100.]\n",
      "nChannels:\t5\n",
      "frequencyShift:\tFalse\n",
      "dispersionCompensation:\tFalse\n",
      "beta2:\t2.0999953937404486e-26\n",
      "dz:\t1000000.0\n",
      "Fs:\t512000000000.0\n",
      "N:\t16384\n",
      "realType:\t<dtype: 'float64'>\n",
      "complexType:\t<dtype: 'complex128'>\n",
      "\n"
     ]
    }
   ],
   "source": [
    "# Tx\n",
    "param = cfs.defaultParameters(precision='double')\n",
    "\n",
    "param.sps = 16\n",
    "param.nSamples = 1024\n",
    "param.PdBm  = 0\n",
    "\n",
    "batch_size = 1\n",
    "runs = 5\n",
    "removeSymbols = 32\n",
    "    \n",
    "param.M     = 64\n",
    "param.Fs    = param.sps * param.Rs\n",
    "param.frequencyShift = False\n",
    "\n",
    "param.N = param.sps * param.nSamples\n",
    "print(param)"
   ]
  },
  {
   "cell_type": "code",
   "execution_count": 4,
   "metadata": {},
   "outputs": [
    {
     "name": "stdout",
     "output_type": "stream",
     "text": [
      "nChannels:\t5\n",
      "nSpans:\t10\n",
      "nPol:\t2\n",
      "sps:\t16\n",
      "nSamples:\t1024\n",
      "Rs:\t32000000000.0\n",
      "noiseEnabled:\tTrue\n",
      "noiseFigure:\t5\n",
      "chSpacing:\t50000000000.0\n",
      "spanLength:\t100\n",
      "alpha:\t0.2\n",
      "gamma:\t1.3\n",
      "D:\t16.464\n",
      "simplified:\t1\n",
      "Fc:\t193410000000000.0\n",
      "precision:\tdouble\n",
      "\n"
     ]
    }
   ],
   "source": [
    "xpmParam = cxpm.defaultParameters()\n",
    "xpmParam.nSamples = param.nSamples\n",
    "print(xpmParam)"
   ]
  },
  {
   "cell_type": "code",
   "execution_count": 5,
   "metadata": {},
   "outputs": [
    {
     "name": "stdout",
     "output_type": "stream",
     "text": [
      "const mean power:  1.0000000000000002\n",
      "const.shape:  (1, 64)\n"
     ]
    }
   ],
   "source": [
    "# Constants\n",
    "c = 299792458\n",
    "constellation = tx.qammod(param.M)\n",
    "print('const mean power: ', np.mean(np.abs(constellation)**2))\n",
    "print('const.shape: ', constellation.shape)"
   ]
  },
  {
   "cell_type": "code",
   "execution_count": 6,
   "metadata": {},
   "outputs": [],
   "source": [
    "def run_model(param, xpmParam):\n",
    "    tf.reset_default_graph()\n",
    "\n",
    "    nDims = 4 # Dimension of X\n",
    "    X = tf.placeholder(tf.float32, shape=(None, param.nChannels, param.nPol, param.nSamples, param.M))\n",
    "    constellation_tf = tf.constant(constellation, param.complexType)\n",
    "\n",
    "    txSymbols = cfh.QAMencoder(X, constellation_tf, realOutput=False)\n",
    "\n",
    "    signal = cfs.wdmTransmitter(txSymbols, param)\n",
    "\n",
    "    signal_split = tf.split(signal, axis=1, num_or_size_splits=xpmParam.nChannels)\n",
    "    signal_split = [tf.squeeze(sig, axis=1) for sig in signal_split]\n",
    "\n",
    "    signal_out = cxpm.model(xpmParam, signal_split)\n",
    "\n",
    "    signal_stack = tf.stack(signal_out, axis=1)\n",
    "\n",
    "    rxSymbols = cfs.wdmReceiver(signal_stack, param)\n",
    "    re_rxSymbols = rxSymbols\n",
    "\n",
    "    #\n",
    "    normP0 = tf.get_default_graph().get_tensor_by_name(\"normP0:0\")\n",
    "    rxSymbols = tf.cast( tf.rsqrt( normP0 ), param.complexType ) * rxSymbols\n",
    "\n",
    "    # remove beginning and end of symbols\n",
    "    rxSymbols, txSymbols = cfh.truncate(removeSymbols, rxSymbols, txSymbols)\n",
    "\n",
    "    rxSymbols = cfh.staticPhaseRotationCompensation(rxSymbols)\n",
    "    rxSymbols = cfh.testPhases(constellation_tf, txSymbols, rxSymbols, nDims, param.M, nTestPhases=4) \n",
    "\n",
    "    # metrics    \n",
    "    reduce_axis = [0, 2, 3]\n",
    "    errorrate = cfh.symbolErrorrate(constellation_tf, txSymbols, rxSymbols, nDims, param.M, reduce_axis)\n",
    "\n",
    "    one = tf.constant( 1, param.realType )\n",
    "    effSNR = cfh.effectiveSNR(txSymbols, rxSymbols, one, reduce_axis)\n",
    "\n",
    "    # MI\n",
    "    MI = []\n",
    "    for (txChannel, rxChannel) in zip(tf.split(txSymbols, param.nChannels, axis=1), tf.split(rxSymbols, param.nChannels, axis=1)):\n",
    "        MI_temp = cfh.gaussianMI(tf.reshape(txChannel,[-1]), tf.reshape(rxChannel,[-1]), constellation_tf, param.M)\n",
    "        MI.append(MI_temp)\n",
    "\n",
    "    MI = tf.stack(MI)    \n",
    "    MI = tf.identity( MI, name='MI' )\n",
    "\n",
    "    # only mid channel\n",
    "    midChannel = param.nChannels//2\n",
    "    errorrate = errorrate[midChannel]\n",
    "    MI = MI[midChannel]\n",
    "    effSNR = effSNR[midChannel]\n",
    "\n",
    "    metricsDict = {'errorrate':errorrate, 'MI': MI, 'effSNR': effSNR}    \n",
    "    meanMetricOpsDict, updateOps, resetOps = cft.create_mean_metrics(metricsDict)\n",
    "\n",
    "    init = tf.global_variables_initializer()\n",
    "\n",
    "    sess = tf.Session()\n",
    "    sess.run(init)\n",
    "\n",
    "    sess.run(resetOps)\n",
    "    for mcRun in range(runs):\n",
    "        print(mcRun, end=' ', flush=True)\n",
    "        x, idx, x_seed = cu.hotOnes((batch_size, param.nChannels, param.nPol, param.nSamples),(1,2,3,4,0),param.M)\n",
    "        feedDict = { X:x }\n",
    "        sess.run(updateOps, feed_dict=feedDict)\n",
    "\n",
    "    outMetrics = sess.run(list(meanMetricOpsDict.values()), feed_dict=feedDict)\n",
    "    outMetrics = { key:val for key,val in zip(list(meanMetricOpsDict.keys()), outMetrics) }\n",
    "\n",
    "    outString = ''\n",
    "    for key, value in outMetrics.items():\n",
    "        outString += ' - {}: {:.4f}'.format(key, value)\n",
    "    print(outString, flush=True)\n",
    "\n",
    "    # sess.close()\n",
    "    print(' ')\n",
    "    return outMetrics['errorrate'], outMetrics['MI'], outMetrics['effSNR'], sess, feedDict"
   ]
  },
  {
   "cell_type": "code",
   "execution_count": 7,
   "metadata": {
    "scrolled": false
   },
   "outputs": [
    {
     "name": "stdout",
     "output_type": "stream",
     "text": [
      "PdBm: -8 - WARNING:tensorflow:\n",
      "The TensorFlow contrib module will not be included in TensorFlow 2.0.\n",
      "For more information, please see:\n",
      "  * https://github.com/tensorflow/community/blob/master/rfcs/20180907-contrib-sunset.md\n",
      "  * https://github.com/tensorflow/addons\n",
      "  * https://github.com/tensorflow/io (for I/O related ops)\n",
      "If you depend on functionality not listed there, please file an issue.\n",
      "\n",
      "0 1 2 3 4  - errorrate: 0.6326 - MI: 3.4960 - effSNR: 10.8559\n",
      " \n",
      "PdBm: -6 - 0 1 2 3 4  - errorrate: 0.5025 - MI: 4.0593 - effSNR: 12.8917\n",
      " \n",
      "PdBm: -4 - 0 1 2 3 4  - errorrate: 0.3612 - MI: 4.6366 - effSNR: 14.8708\n",
      " \n",
      "PdBm: -2 - 0 1 2 3 4  - errorrate: 0.2261 - MI: 5.1220 - effSNR: 16.6625\n",
      " \n",
      "PdBm: 0 - 0 1 2 3 4  - errorrate: 0.1278 - MI: 5.4742 - effSNR: 18.1368\n",
      " \n",
      "PdBm: 2 - 0 1 2 3 4  - errorrate: 0.0911 - MI: 5.6084 - effSNR: 18.8897\n",
      " \n",
      "PdBm: 4 - 0 1 2 3 4  - errorrate: 0.1609 - MI: 5.3792 - effSNR: 17.7279\n",
      " \n"
     ]
    }
   ],
   "source": [
    "powerSweep = np.arange(-8, 4+1, 2)\n",
    "SSFeffSNR = np.zeros(powerSweep.shape)\n",
    "SSFMI = np.zeros(powerSweep.shape)\n",
    "sess = 0\n",
    "feedDict = 0\n",
    "for ii, PdBm in enumerate(powerSweep):\n",
    "    print('PdBm: {}'.format(PdBm), end=' - ')\n",
    "    param.PdBm = PdBm\n",
    "    (avErrorrate, avMI, avEffSNR, sess, feedDict) = run_model(param, xpmParam)\n",
    "    SSFeffSNR[ii] = avEffSNR\n",
    "    SSFMI[ii] = avMI"
   ]
  },
  {
   "cell_type": "code",
   "execution_count": 8,
   "metadata": {},
   "outputs": [
    {
     "name": "stdout",
     "output_type": "stream",
     "text": [
      "nPol:\t2\n",
      "lambda_:\t1.55003597538907e-06\n",
      "Fc:\t193410000000000.0\n",
      "D:\t16.464\n",
      "alpha:\t0.2\n",
      "beta2:\t2.0999953937404486e-26\n",
      "gamma:\t1.3\n",
      "nSpans:\t10\n",
      "spanLength:\t100\n",
      "noiseFigure:\t5\n",
      "PdBm:\t1\n",
      "Rs:\t32\n",
      "channels:\t[-100.  -50.    0.   50.  100.]\n",
      "nChannels:\t5\n",
      "chSpacing:\t50\n",
      "kur:\t1.32\n",
      "kur3:\t1.96\n",
      "N_mc:\t1000000\n",
      "PD:\t0\n",
      "\n"
     ]
    }
   ],
   "source": [
    "import claude.models.NLIN as nlin\n",
    "# System parameters\n",
    "qamParam = nlin.defaultParameters()\n",
    "print(qamParam)"
   ]
  },
  {
   "cell_type": "code",
   "execution_count": 9,
   "metadata": {},
   "outputs": [],
   "source": [
    "# same as claude.models.NLIN.calcNLIN but without 'intra' and 'intraAdd'\n",
    "def calcNLIN(param, powerSweep, aseNoisePower, interConst, interConstAdd):\n",
    "    inter = np.zeros(powerSweep.shape)\n",
    "    interAdd = np.zeros(powerSweep.shape)\n",
    "\n",
    "    for ii,PdBm in enumerate(powerSweep):\n",
    "        param.PdBm = PdBm\n",
    "        inter[ii] = np.sum( nlin.calcInterChannelNLIN(interConst,param) )\n",
    "\n",
    "        interAdd[ii] = np.sum( nlin.calcInterChannelNLINAddTerms(interConstAdd, param) )\n",
    "    \n",
    "    return cu.lin2dB( aseNoisePower+inter+interAdd, 'dBm')\n",
    "\n",
    "    # as in claude.models.NLIN.calcNLIN:\n",
    "    # return cu.lin2dB( aseNoisePower+inter+intra+interAdd+intraAdd, 'dBm') "
   ]
  },
  {
   "cell_type": "code",
   "execution_count": 10,
   "metadata": {},
   "outputs": [],
   "source": [
    "aseNoisePower, interConst, intraConst, interConstAdd, intraConstAdd = nlin.calcConstants(qamParam)\n",
    "nlinPowerSweep = np.arange(-8, 4+1, 0.1)"
   ]
  },
  {
   "cell_type": "code",
   "execution_count": 11,
   "metadata": {},
   "outputs": [],
   "source": [
    "# QAM\n",
    "qam_constellation = np.squeeze(tx.qammod(param.M))\n",
    "qamParam.kur, qamParam.kur3 = nlin.calcKur(qam_constellation)\n",
    "qamEffSNR = nlinPowerSweep - calcNLIN(qamParam, nlinPowerSweep, aseNoisePower, interConst, interConstAdd)"
   ]
  },
  {
   "cell_type": "code",
   "execution_count": 12,
   "metadata": {},
   "outputs": [
    {
     "data": {
      "image/png": "[encoded data removed]",
      "text/plain": [
       "<Figure size 432x288 with 1 Axes>"
      ]
     },
     "metadata": {
      "needs_background": "light"
     },
     "output_type": "display_data"
    }
   ],
   "source": [
    "plt.plot(nlinPowerSweep, qamEffSNR, 'b')\n",
    "plt.plot(powerSweep, SSFeffSNR, 'xr')\n",
    "plt.title('Power [dBm] VS effective SNR')\n",
    "plt.xlabel('Power [dBm]')\n",
    "plt.ylabel('effective SNR [dB]')\n",
    "plt.show()"
   ]
  },
  {
   "cell_type": "code",
   "execution_count": null,
   "metadata": {},
   "outputs": [],
   "source": [
    "qamMI = np.zeros(np.shape(qamEffSNR))\n",
    "N = 5e4\n",
    "\n",
    "for ii,p in enumerate(nlinPowerSweep):\n",
    "    qamMI[ii] = cu.SNRtoMI(N, qamEffSNR[ii], np.expand_dims(qam_constellation, 0))"
   ]
  },
  {
   "cell_type": "code",
   "execution_count": 14,
   "metadata": {},
   "outputs": [
    {
     "data": {
      "image/png": "[encoded data removed]",
      "text/plain": [
       "<Figure size 432x288 with 1 Axes>"
      ]
     },
     "metadata": {
      "needs_background": "light"
     },
     "output_type": "display_data"
    }
   ],
   "source": [
    "plt.plot(nlinPowerSweep, qamMI, 'b')\n",
    "plt.plot(powerSweep, SSFMI, 'xr')\n",
    "plt.title('Power [dBm] VS MI')\n",
    "plt.xlabel('Power [dBm]')\n",
    "plt.ylabel('MI [bits]')\n",
    "plt.show()"
   ]
  }
 ],
 "metadata": {
  "kernelspec": {
   "display_name": "Python 3",
   "language": "python",
   "name": "python3"
  },
  "language_info": {
   "codemirror_mode": {
    "name": "ipython",
    "version": 3
   },
   "file_extension": ".py",
   "mimetype": "text/x-python",
   "name": "python",
   "nbconvert_exporter": "python",
   "pygments_lexer": "ipython3",
   "version": "3.6.12"
  }
 },
 "nbformat": 4,
 "nbformat_minor": 2
}
